{
 "cells": [
  {
   "cell_type": "code",
   "execution_count": 27,
   "id": "0416634a-7064-42cf-b23f-ff6f44f34403",
   "metadata": {},
   "outputs": [],
   "source": [
    "from transformers import DistilBertForSequenceClassification, Trainer, TrainingArguments\n",
    "from transformers import EarlyStoppingCallback\n",
    "from sklearn.metrics import precision_recall_fscore_support, accuracy_score\n",
    "import numpy as np"
   ]
  },
  {
   "cell_type": "code",
   "execution_count": 39,
   "id": "7c299ecc-655b-4783-aee8-bb2483c816cc",
   "metadata": {},
   "outputs": [],
   "source": [
    "import torch\n",
    "from torch.utils.data import Dataset, DataLoader\n",
    "from transformers import DistilBertTokenizerFast, DistilBertForSequenceClassification\n",
    "from torch.optim import AdamW\n",
    "from sklearn.model_selection import train_test_split\n",
    "from sklearn.metrics import accuracy_score, precision_recall_fscore_support\n",
    "import pandas as pd\n",
    "from tqdm import tqdm\n"
   ]
  },
  {
   "cell_type": "code",
   "execution_count": 43,
   "id": "6a01e3a5-1af2-4364-a2b0-19e502c7c5a1",
   "metadata": {},
   "outputs": [],
   "source": [
    "# Load and clean\n",
    "df = pd.read_csv(\"amazon_reviews.csv\")  # Replace with your actual file name\n",
    "df = df.dropna(subset=[\"Score\", \"Text\"])\n",
    "df = df[df[\"Score\"] != 3]  # remove neutral\n",
    "df[\"label\"] = df[\"Score\"].apply(lambda x: 1 if x >= 4 else 0)\n",
    "\n",
    "# Balanced sample (10k per class)\n",
    "min_class = min(10000, df.label.value_counts()[0], df.label.value_counts()[1])\n",
    "df_pos = df[df.label == 1].sample(n=min_class, random_state=42)\n",
    "df_neg = df[df.label == 0].sample(n=min_class, random_state=42)\n",
    "df_balanced = pd.concat([df_pos, df_neg]).sample(frac=1).reset_index(drop=True)\n",
    "\n",
    "train_texts, val_texts, train_labels, val_labels = train_test_split(\n",
    "    df_balanced[\"Text\"], df_balanced[\"label\"], test_size=0.2, random_state=42\n",
    ")\n"
   ]
  },
  {
   "cell_type": "code",
   "execution_count": 45,
   "id": "a6dc0fbf-bdce-4925-83a7-dfa8110504b5",
   "metadata": {},
   "outputs": [],
   "source": [
    "tokenizer = DistilBertTokenizerFast.from_pretrained(\"distilbert-base-uncased\")\n",
    "\n",
    "train_encodings = tokenizer(train_texts.tolist(), truncation=True, padding=True, max_length=128)\n",
    "val_encodings = tokenizer(val_texts.tolist(), truncation=True, padding=True, max_length=128)"
   ]
  },
  {
   "cell_type": "code",
   "execution_count": 47,
   "id": "68464542-2af0-46ee-b2a7-4b9321150a4b",
   "metadata": {},
   "outputs": [],
   "source": [
    "class ReviewDataset(Dataset):\n",
    "    def __init__(self, encodings, labels):\n",
    "        self.encodings = encodings\n",
    "        self.labels = labels\n",
    "    def __getitem__(self, idx):\n",
    "        return {\n",
    "            'input_ids': torch.tensor(self.encodings['input_ids'][idx]),\n",
    "            'attention_mask': torch.tensor(self.encodings['attention_mask'][idx]),\n",
    "            'labels': torch.tensor(self.labels[idx])\n",
    "        }\n",
    "    def __len__(self):\n",
    "        return len(self.labels)\n",
    "\n",
    "train_dataset = ReviewDataset(train_encodings, train_labels.tolist())\n",
    "val_dataset = ReviewDataset(val_encodings, val_labels.tolist())\n",
    "\n",
    "train_loader = DataLoader(train_dataset, batch_size=8, shuffle=True)\n",
    "val_loader = DataLoader(val_dataset, batch_size=32)"
   ]
  },
  {
   "cell_type": "code",
   "execution_count": 49,
   "id": "f07a802c-2b1b-40c0-80c5-b7e535872c33",
   "metadata": {},
   "outputs": [
    {
     "name": "stderr",
     "output_type": "stream",
     "text": [
      "Some weights of DistilBertForSequenceClassification were not initialized from the model checkpoint at distilbert-base-uncased and are newly initialized: ['classifier.bias', 'classifier.weight', 'pre_classifier.bias', 'pre_classifier.weight']\n",
      "You should probably TRAIN this model on a down-stream task to be able to use it for predictions and inference.\n",
      "Epoch 0: 100%|██████████████████████████████████████████████████████| 2000/2000 [1:01:47<00:00,  1.85s/it, loss=0.0197]\n"
     ]
    }
   ],
   "source": [
    "model = DistilBertForSequenceClassification.from_pretrained(\"distilbert-base-uncased\", num_labels=2)\n",
    "device = torch.device(\"cuda\" if torch.cuda.is_available() else \"cpu\")\n",
    "model.to(device)\n",
    "\n",
    "optim = AdamW(model.parameters(), lr=2e-5)\n",
    "epochs = 1\n",
    "\n",
    "model.train()\n",
    "for epoch in range(epochs):\n",
    "    loop = tqdm(train_loader, leave=True)\n",
    "    for batch in loop:\n",
    "        optim.zero_grad()\n",
    "        input_ids = batch['input_ids'].to(device)\n",
    "        attention_mask = batch['attention_mask'].to(device)\n",
    "        labels = batch['labels'].to(device)\n",
    "\n",
    "        outputs = model(input_ids, attention_mask=attention_mask, labels=labels)\n",
    "        loss = outputs.loss\n",
    "        loss.backward()\n",
    "        optim.step()\n",
    "\n",
    "        loop.set_description(f\"Epoch {epoch}\")\n",
    "        loop.set_postfix(loss=loss.item())\n"
   ]
  },
  {
   "cell_type": "code",
   "execution_count": 51,
   "id": "70e7b0be-1afd-4dd0-a6c2-80608bee2518",
   "metadata": {},
   "outputs": [
    {
     "name": "stdout",
     "output_type": "stream",
     "text": [
      "✅ Accuracy: 0.9210\n",
      "✅ Precision: 0.9238\n",
      "✅ Recall: 0.9210\n",
      "✅ F1 Score: 0.9207\n"
     ]
    }
   ],
   "source": [
    "model.eval()\n",
    "all_preds = []\n",
    "all_labels = []\n",
    "\n",
    "with torch.no_grad():\n",
    "    for batch in val_loader:\n",
    "        input_ids = batch['input_ids'].to(device)\n",
    "        attention_mask = batch['attention_mask'].to(device)\n",
    "        labels = batch['labels'].to(device)\n",
    "\n",
    "        outputs = model(input_ids, attention_mask=attention_mask)\n",
    "        preds = torch.argmax(outputs.logits, dim=1)\n",
    "\n",
    "        all_preds.extend(preds.cpu().numpy())\n",
    "        all_labels.extend(labels.cpu().numpy())\n",
    "\n",
    "acc = accuracy_score(all_labels, all_preds)\n",
    "p, r, f1, _ = precision_recall_fscore_support(all_labels, all_preds, average='weighted')\n",
    "\n",
    "print(f\"✅ Accuracy: {acc:.4f}\")\n",
    "print(f\"✅ Precision: {p:.4f}\")\n",
    "print(f\"✅ Recall: {r:.4f}\")\n",
    "print(f\"✅ F1 Score: {f1:.4f}\")"
   ]
  },
  {
   "cell_type": "code",
   "execution_count": 55,
   "id": "d0054920-fea8-4b7e-bc08-db9a4ae91e90",
   "metadata": {},
   "outputs": [
    {
     "data": {
      "text/plain": [
       "['tokenizer.joblib']"
      ]
     },
     "execution_count": 55,
     "metadata": {},
     "output_type": "execute_result"
    }
   ],
   "source": [
    "# Save model weights\n",
    "torch.save(model.state_dict(), \"distilbert_sentiment.pt\")\n",
    "\n",
    "# Save tokenizer separately (you can still use .pickle or .joblib for tokenizer if needed)\n",
    "import joblib\n",
    "joblib.dump(tokenizer, \"tokenizer.joblib\")"
   ]
  },
  {
   "cell_type": "code",
   "execution_count": 57,
   "id": "ae6079dd-5782-45d6-81fc-bac9cc91561f",
   "metadata": {},
   "outputs": [],
   "source": [
    "import torch\n",
    "import pickle\n",
    "\n",
    "# Save model weights\n",
    "torch.save(model.state_dict(), \"distilbert_sentiment.pt\")\n",
    "\n",
    "# Save tokenizer path and model info using pickle\n",
    "model_bundle = {\n",
    "    \"model_name\": \"distilbert-base-uncased\",\n",
    "    \"model_path\": \"distilbert_sentiment.pt\"\n",
    "}\n",
    "\n",
    "with open(\"model_bundle.pkl\", \"wb\") as f:\n",
    "    pickle.dump(model_bundle, f)\n"
   ]
  }
 ],
 "metadata": {
  "kernelspec": {
   "display_name": "Python 3 (ipykernel)",
   "language": "python",
   "name": "python3"
  },
  "language_info": {
   "codemirror_mode": {
    "name": "ipython",
    "version": 3
   },
   "file_extension": ".py",
   "mimetype": "text/x-python",
   "name": "python",
   "nbconvert_exporter": "python",
   "pygments_lexer": "ipython3",
   "version": "3.12.4"
  }
 },
 "nbformat": 4,
 "nbformat_minor": 5
}
